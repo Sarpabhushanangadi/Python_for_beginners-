{
  "nbformat": 4,
  "nbformat_minor": 0,
  "metadata": {
    "colab": {
      "provenance": []
    },
    "kernelspec": {
      "name": "python3",
      "display_name": "Python 3"
    },
    "language_info": {
      "name": "python"
    }
  },
  "cells": [
    {
      "cell_type": "code",
      "execution_count": null,
      "metadata": {
        "colab": {
          "base_uri": "https://localhost:8080/"
        },
        "id": "RcGsvolIg_xg",
        "outputId": "c059b8ff-9285-4eb0-a3b6-bb5046c6b452"
      },
      "outputs": [
        {
          "output_type": "stream",
          "name": "stdout",
          "text": [
            "enter no4\n",
            "*\n",
            "**\n",
            "***\n",
            "****\n"
          ]
        }
      ],
      "source": [
        "a=int(input(\"enter no   \"))\n",
        "b=\"*\"\n",
        "for i in range(1,a+1):\n",
        "  print(b*i)"
      ]
    },
    {
      "cell_type": "code",
      "source": [
        "a=[]\n",
        "for i in range(5):\n",
        "  b=int(input(\"enter no\"))\n",
        "  a.append(b)\n",
        "for i in range(5):\n",
        "  if a[i]%2==0:\n",
        "    print(a[i])\n",
        "    print(\"even\")\n",
        "for i in range(5):\n",
        "  if a[i]%2 !=0:\n",
        "    print(a[i])\n",
        "    print(\"odd\")"
      ],
      "metadata": {
        "colab": {
          "base_uri": "https://localhost:8080/"
        },
        "id": "w_gLl3X-h37U",
        "outputId": "b28005e7-b047-4729-94d1-3fb23b4ea903"
      },
      "execution_count": null,
      "outputs": [
        {
          "output_type": "stream",
          "name": "stdout",
          "text": [
            "enter no4\n",
            "enter no5\n",
            "enter no3\n",
            "enter no6\n",
            "enter no7\n",
            "4\n",
            "even\n",
            "6\n",
            "even\n",
            "5\n",
            "odd\n",
            "3\n",
            "odd\n",
            "7\n",
            "odd\n"
          ]
        }
      ]
    },
    {
      "cell_type": "code",
      "source": [
        "a=int(input(\"enter number\"))\n",
        "count=0\n",
        "for i in range(2,a+1):\n",
        "  if a%i==0:\n",
        "    count+=1\n",
        "\n",
        "if count==1:\n",
        "  print(\"prime number\")\n",
        "else:\n",
        "  if a%3==0:\n",
        "    print(\"divisible by 3\")\n",
        "  elif a%7==0:\n",
        "    print(\"divisible by 7\")\n",
        "  elif a%9==0:\n",
        "    print(\"divisible by 9\")\n",
        "  elif a%11==0:\n",
        "    print(\"divisible by 11\")"
      ],
      "metadata": {
        "colab": {
          "base_uri": "https://localhost:8080/"
        },
        "id": "4FQoOlwPi-EJ",
        "outputId": "0ac7683b-3691-40bb-cee5-759fc5ceda22"
      },
      "execution_count": null,
      "outputs": [
        {
          "output_type": "stream",
          "name": "stdout",
          "text": [
            "enter number14\n",
            "divisible by 7\n"
          ]
        }
      ]
    },
    {
      "cell_type": "code",
      "source": [
        "a=input(\"Enter string: \")\n",
        "b=len(a)\n",
        "flag=0\n",
        "i=0\n",
        "count=-1\n",
        "while i!=b:\n",
        "  if a[i]==a[count]:\n",
        "    i+=1\n",
        "    count-=1\n",
        "    flag=0\n",
        "  else:\n",
        "    flag=1\n",
        "    break\n",
        "if flag==1:\n",
        "  print(\"not palindrome\")\n",
        "else:\n",
        "  print(\"palindrome\")"
      ],
      "metadata": {
        "colab": {
          "base_uri": "https://localhost:8080/"
        },
        "id": "GCPBr9UYnYZ9",
        "outputId": "2d1cb936-7f3a-4e4b-cdc3-fafe9b2c8217"
      },
      "execution_count": null,
      "outputs": [
        {
          "output_type": "stream",
          "name": "stdout",
          "text": [
            "Enter string: naman\n",
            "palindrome\n"
          ]
        }
      ]
    },
    {
      "cell_type": "code",
      "source": [],
      "metadata": {
        "id": "8voH4Kqpog8S"
      },
      "execution_count": null,
      "outputs": []
    }
  ]
}